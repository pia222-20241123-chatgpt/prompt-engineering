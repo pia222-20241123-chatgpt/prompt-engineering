{
  "nbformat": 4,
  "nbformat_minor": 0,
  "metadata": {
    "colab": {
      "provenance": []
    },
    "kernelspec": {
      "name": "python3",
      "display_name": "Python 3"
    },
    "language_info": {
      "name": "python"
    }
  },
  "cells": [
    {
      "cell_type": "code",
      "execution_count": null,
      "metadata": {
        "id": "Y9SMD_rsm35y"
      },
      "outputs": [],
      "source": []
    },
    {
      "cell_type": "markdown",
      "source": [
        "# chat gpt 능력을 활용하는 3가지 방법\n",
        "### ChatGPT\n",
        "### Bing.com 채팅\n",
        "### OpenAI API"
      ],
      "metadata": {
        "id": "M75D4xWmndtM"
      }
    },
    {
      "cell_type": "markdown",
      "source": [
        "- Few shot 러닝\n",
        "  - 모델이 1~5개 정도의 데이터로 학습(고양이와 개를구분한다고하면 고양2장 개2장)\n",
        "  - 동작방법\n",
        "    - 거대모델을 사용(GPR, BERT , CLIP) - Pre-trained모델\n",
        "    - 샘플을 추가해서 미세조정(Fine-tuning) - > Few Shot 데이터를 사용\n",
        "    - Prompting 활용\n",
        "      텍스트 : \"오늘 날씨가 너무 좋다\"\n",
        "      프롬프트 : \" 이 텍스트가 긍정적인가요?\"\n",
        "      답변 : \"긍정적입니다.\"\n",
        "\n",
        "- Zero Shot 러닝\n",
        "  - 한개의 예시만으로 학습\n",
        "- One Shot 러닝\n",
        "  - 학습없이도 문제를 해결(이 단어가 긍정인지 부정인지 답을제공)\n"
      ],
      "metadata": {
        "id": "GI20yIoxoPFr"
      }
    },
    {
      "cell_type": "markdown",
      "source": [
        "# Few shot 학습예시\n",
        "  - 문제 : 영화 리뷰가 긍정적인지 부정적인지 구분\n",
        "  - 샘플데이터\n",
        "    - 긍정적 리뷰 : \" 이 영화는 정말 재미있어요\"\n",
        "    - 부정적 리뷰 : \" 너무 지루해서 중간에 나왔어요\""
      ],
      "metadata": {
        "id": "U-npkZnYqN13"
      }
    },
    {
      "cell_type": "code",
      "source": [
        ":"
      ],
      "metadata": {
        "id": "W8A3a-9RngUL"
      },
      "execution_count": null,
      "outputs": []
    }
  ]
}