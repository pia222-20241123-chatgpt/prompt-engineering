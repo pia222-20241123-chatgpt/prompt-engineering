{
  "nbformat": 4,
  "nbformat_minor": 0,
  "metadata": {
    "colab": {
      "provenance": []
    },
    "kernelspec": {
      "name": "python3",
      "display_name": "Python 3"
    },
    "language_info": {
      "name": "python"
    }
  },
  "cells": [
    {
      "cell_type": "code",
      "execution_count": 13,
      "metadata": {
        "colab": {
          "base_uri": "https://localhost:8080/"
        },
        "id": "j2BQEJ46EN0b",
        "outputId": "8a5d8b86-1fb4-47e1-f237-c79a0e0b2878"
      },
      "outputs": [
        {
          "output_type": "stream",
          "name": "stdout",
          "text": [
            "\n",
            "Usage:   \n",
            "  pip3 install [options] <requirement specifier> [package-index-options] ...\n",
            "  pip3 install [options] -r <requirements file> [package-index-options] ...\n",
            "  pip3 install [options] [-e] <vcs project url> ...\n",
            "  pip3 install [options] [-e] <local project path> ...\n",
            "  pip3 install [options] <archive url/path> ...\n",
            "\n",
            "no such option: --qq\n"
          ]
        },
        {
          "output_type": "stream",
          "name": "stderr",
          "text": [
            "[nltk_data] Downloading package punkt to /root/nltk_data...\n",
            "[nltk_data]   Package punkt is already up-to-date!\n",
            "[nltk_data] Downloading package punkt_tab to /root/nltk_data...\n",
            "[nltk_data]   Package punkt_tab is already up-to-date!\n"
          ]
        }
      ],
      "source": [
        "!pip install  fitz -qq\n",
        "!pip install  PyMuPDF -qq\n",
        "!pip install pytesseract opencv-python pillow numpy -qq\n",
        "!apt-get install tesseract-ocr -qq\n",
        "!apt-get install tesseract-ocr-kor -qq\n",
        "!pip install tqdm --qq\n",
        "\n",
        "import nltk\n",
        "nltk.download('punkt')\n",
        "nltk.download('punkt_tab')\n",
        "from transformers import AutoTokenizer, AutoModelForSeq2SeqLM\n",
        "\n",
        "import fitz  # PyMuPDF\n",
        "import cv2\n",
        "import pytesseract\n",
        "from PIL import Image\n",
        "import numpy as np"
      ]
    },
    {
      "cell_type": "code",
      "source": [
        "from tqdm import tqdm\n",
        "import nltk\n",
        "\n",
        "def summarize_text(text, model, tokenizer):\n",
        "    # 전체 진행 상태를 표시하기 위한 tqdm 바 생성\n",
        "    steps = 3  # 전체 3단계 (토크나이징, 생성, 디코딩)\n",
        "    with tqdm(total=steps, desc=\"Overall Progress\", ncols=100) as pbar:\n",
        "        # 토크나이징\n",
        "        prefix = \"summarize: \"\n",
        "        inputs = [prefix + text]\n",
        "        inputs = tokenizer(inputs, max_length=512, truncation=True, return_tensors=\"pt\")\n",
        "        pbar.update(1)  # 첫 번째 단계 완료 후 진행률 업데이트\n",
        "\n",
        "        # 생성\n",
        "        output = model.generate(**inputs, num_beams=3, do_sample=True, min_length=10, max_length=64)\n",
        "        pbar.update(1)  # 두 번째 단계 완료 후 진행률 업데이트\n",
        "\n",
        "        # 디코딩\n",
        "        decoded_output = tokenizer.batch_decode(output, skip_special_tokens=True)[0]\n",
        "        result = nltk.sent_tokenize(decoded_output.strip())[0]\n",
        "        pbar.update(1)  # 세 번째 단계 완료 후 진행률 업데이트\n",
        "\n",
        "    return result\n",
        "\n",
        "\n",
        "# pdf - > text 추출\n",
        "def extract_text_from_pdf(file_path):\n",
        "    doc = fitz.open(file_path)\n",
        "    content = ''\n",
        "    for page_num in range(doc.page_count):\n",
        "        page = doc.load_page(page_num)\n",
        "        content += page.get_text()\n",
        "    return content\n",
        "\n",
        "# 이미지 -> 텍스트 추출\n",
        "# 이미지 로드\n",
        "def preprocess_image(image_path):\n",
        "    # 이미지를 흑백으로 변환\n",
        "    image = cv2.imread(image_path, cv2.IMREAD_GRAYSCALE)\n",
        "\n",
        "    # 이진화: 텍스트를 명확하게 하기 위해 흑백으로 변환\n",
        "    _, thresh_img = cv2.threshold(image, 150, 255, cv2.THRESH_BINARY)\n",
        "\n",
        "    # 잡음 제거: 가우시안 블러 사용\n",
        "    blurred_img = cv2.GaussianBlur(thresh_img, (5, 5), 0)\n",
        "\n",
        "    return blurred_img\n",
        "\n",
        "# 이미지에서 텍스트 추출\n",
        "def extract_text(image_path):\n",
        "    # 전처리된 이미지\n",
        "    preprocessed_image = preprocess_image(image_path)\n",
        "\n",
        "    # 텍스트 추출 (한글 언어 데이터 사용)\n",
        "    text = pytesseract.image_to_string(preprocessed_image, lang='kor')\n",
        "    return text"
      ],
      "metadata": {
        "id": "5nQPNzdMEXJr"
      },
      "execution_count": 16,
      "outputs": []
    },
    {
      "cell_type": "markdown",
      "source": [
        "img 파일 -> 텍스트"
      ],
      "metadata": {
        "id": "aS6vNukbEvBE"
      }
    },
    {
      "cell_type": "code",
      "source": [
        "print(extract_text('/content/캡처.PNG'))"
      ],
      "metadata": {
        "colab": {
          "base_uri": "https://localhost:8080/"
        },
        "collapsed": true,
        "id": "dmojaHbiErQ7",
        "outputId": "d5d54c13-80a1-40e6-95d0-d2265f8b1cfd"
      },
      "execution_count": 4,
      "outputs": [
        {
          "output_type": "stream",
          "name": "stdout",
          "text": [
            "이들은 “계엄이 야기한 문제를 고작 '국민들께 풀안과 불면을 끼친 것'으로 묘사한다. 국정 최\n",
            "고 책임자로서의 엄중한 책임감이라고는 전혀 찾아볼 수 없다. 어떻게 해서든 탄핵을 막아보\n",
            "겠다는 것이다. 언제든 내란을 획책할 수 있는 기득권 정치세력의 정국 주도권을 끝까지 유\n",
            "지하겠다는 것\"이라고 일침했다.\n",
            "\n",
            "이들은 \"어불성설이다. 국민들은 더 이상 고양이에게 생선 가게를 맡길 생각이 없다. 국민의\n",
            "힘은 탄핵하라는 국민의 명령을 이행하고 내란을 획책한 자들에 대한 명백한 처벌의 길을 열\n",
            "어야 한다\"며 “국민과 역사 앞에 진정으로 사죄하고 진정 책임지는 일\"이라고 역설했다.\n",
            "\n",
            "5-18민주화운동 공법 3단제(유족회-부상자회-공로자회)와 518기념재단도 성명을 내고 윤\n",
            "대동령을 향해 \"내란을 일으킨 신군부 세력의 폭압적 행위를 용호하고 그들을 정당화하려는\n",
            "태도를 보였다\"며 “5718로 희생된 수많은 국민의 피와 눈물을 모욕하는 행위\"라고 비딴했다.\n",
            "\n",
            "이들 단체는 “국회는 오늘 대한민국 민주주의 근간을 흔드는 반란군에게 다시 권력을 허락\n",
            "할 것인지 심판할 것인지 션택해야 현다“며 \"국민의힘이 국민의 목소리를 외면하고 내란수\n",
            "괴의 하수인이 될지 국민 앞에 무름 꿀고 사죄하는 올바른 선택을 할지 국민들이 지켜볼\n",
            "것\"이라고 강조했다.\n",
            "\n",
            "윤석열 정권퇴진 광주비상행동은 탄핵 소추안 의결이 예정된 오후 5시 광주 동구 578민주\n",
            "광장에서 4자 시민종결기대회를 연다. 지역시민 800여명은 상경해 국회 양 탄핵 촉구 집회\n",
            "에 힘을 보탠다.\n",
            "\f\n"
          ]
        }
      ]
    },
    {
      "cell_type": "markdown",
      "source": [
        "PDF에서 텍스트 추출"
      ],
      "metadata": {
        "id": "02giakyvFG07"
      }
    },
    {
      "cell_type": "code",
      "source": [
        "print(extract_text_from_pdf('/content/프로젝트_보고서.pdf'))"
      ],
      "metadata": {
        "colab": {
          "base_uri": "https://localhost:8080/"
        },
        "id": "Q3NbDhinE57D",
        "outputId": "44aa34e8-943e-4ffb-ab1b-6ecbabadea44"
      },
      "execution_count": 7,
      "outputs": [
        {
          "output_type": "stream",
          "name": "stdout",
          "text": [
            "프로젝트보고서\n",
            "Markdown 및AI 프롬프트활용학습\n",
            "프로젝트개요\n",
            "이프로젝트는Markdown을사용하여문서를\n",
            "작성하고, 프롬프트를활용하여정확한정보나\n",
            "코드를요청하는방법을학습하는것을목표로\n",
            "합니다.\n",
            "Markdown을통해문서화작업을효율적으로\n",
            "진행하며, Python 코드예시를통해프로그래\n",
            "밍기술을적용하고,\n",
            "AI 프롬프트를활용하여시스템과상호작용하\n",
            "는방법을익힙니다.\n",
            "프로젝트목표\n",
            "1. Markdown 기본문법배우기및적용하기\n",
            "2. 프롬프트를활용하여AI 또는프로그램에\n",
            "효율적으로요청하기\n",
            "사용된기술\n",
            "- Markdown: 문서작성및구조화\n",
            "- Python: 코드예시작성및실행\n",
            "- AI 프롬프트: AI 시스템과의상호작용\n",
            "코드예시\n",
            "# python에서리스트에서짝수만출력하는\n",
            "코드예시\n",
            "number = [1, 2, 3, 4, 5]\n",
            "even_numbers = [num for num in number if \n",
            "num % 2 == 0]\n",
            "print(even_numbers)\n",
            "코드설명\n",
            "1. 'number' 리스트에서숫자들을필터링하\n",
            "여짝수만추출합니다.\n",
            "2. '리스트컴프리헨션'을사용하여짝수조\n",
            "건을만족하는숫자들만선택합니다.\n",
            "3. 짝수만필터링한결과를'even_numbers' \n",
            "리스트에저장하고출력합니다.\n",
            "프로젝트과정\n",
            "1. Markdown 문법학습및적용\n",
            "2. 프롬프트작성및AI 상호작용\n",
            "3. 코드예시작성및결과분석\n",
            "결론\n",
            "이프로젝트를통해Markdown을사용한문\n",
            "서작성방법과Python 코드를문서에통합\n",
            "하는방법을배웠습니다.\n",
            "또한, 프롬프트를활용한AI와의상호작용\n",
            "을통해효율적으로문제를해결하는기술\n",
            "을익혔습니다.\n",
            "향후개선사항\n",
            "- Markdown 문서작성에서다양한스타일\n",
            "링기능을더활용하여문서를풍성하게만\n",
            "들기\n",
            "- AI 프롬프트작성시다양한상황을고려한\n",
            "프롬프트작성법추가\n",
            "\n"
          ]
        }
      ]
    },
    {
      "cell_type": "markdown",
      "source": [
        "요약하기"
      ],
      "metadata": {
        "id": "EyHnhuYuGXFc"
      }
    },
    {
      "cell_type": "code",
      "source": [
        "#  한번만 실행하기\n",
        "model = AutoModelForSeq2SeqLM.from_pretrained('eenzeenee/t5-base-korean-summarization')\n",
        "tokenizer = AutoTokenizer.from_pretrained('eenzeenee/t5-base-korean-summarization')"
      ],
      "metadata": {
        "id": "3lmqVFpUGYcb"
      },
      "execution_count": 10,
      "outputs": []
    },
    {
      "cell_type": "code",
      "source": [
        "txt = '''\n",
        "프로젝트보고서\n",
        "Markdown 및AI 프롬프트활용학습\n",
        "프로젝트개요\n",
        "이프로젝트는Markdown을사용하여문서를\n",
        "작성하고, 프롬프트를활용하여정확한정보나\n",
        "코드를요청하는방법을학습하는것을목표로\n",
        "합니다.\n",
        "Markdown을통해문서화작업을효율적으로\n",
        "진행하며, Python 코드예시를통해프로그래\n",
        "밍기술을적용하고,\n",
        "AI 프롬프트를활용하여시스템과상호작용하\n",
        "는방법을익힙니다.\n",
        "프로젝트목표\n",
        "1. Markdown 기본문법배우기및적용하기\n",
        "2. 프롬프트를활용하여AI 또는프로그램에\n",
        "효율적으로요청하기\n",
        "사용된기술\n",
        "- Markdown: 문서작성및구조화\n",
        "- Python: 코드예시작성및실행\n",
        "- AI 프롬프트: AI 시스템과의상호작용\n",
        "코드예시\n",
        "# python에서리스트에서짝수만출력하는\n",
        "코드예시\n",
        "number = [1, 2, 3, 4, 5]\n",
        "even_numbers = [num for num in number if\n",
        "num % 2 == 0]\n",
        "print(even_numbers)\n",
        "코드설명\n",
        "1. 'number' 리스트에서숫자들을필터링하\n",
        "여짝수만추출합니다.\n",
        "2. '리스트컴프리헨션'을사용하여짝수조\n",
        "건을만족하는숫자들만선택합니다.\n",
        "3. 짝수만필터링한결과를'even_numbers'\n",
        "리스트에저장하고출력합니다.\n",
        "프로젝트과정\n",
        "1. Markdown 문법학습및적용\n",
        "2. 프롬프트작성및AI 상호작용\n",
        "3. 코드예시작성및결과분석\n",
        "결론\n",
        "이프로젝트를통해Markdown을사용한문\n",
        "서작성방법과Python 코드를문서에통합\n",
        "하는방법을배웠습니다.\n",
        "또한, 프롬프트를활용한AI와의상호작용\n",
        "을통해효율적으로문제를해결하는기술\n",
        "을익혔습니다.\n",
        "향후개선사항\n",
        "- Markdown 문서작성에서다양한스타일\n",
        "링기능을더활용하여문서를풍성하게만\n",
        "들기\n",
        "- AI 프롬프트작성시다양한상황을고려한\n",
        "프롬프트작성법추가\n",
        "\n",
        "'''\n",
        "summarize_text(txt,model,tokenizer)"
      ],
      "metadata": {
        "colab": {
          "base_uri": "https://localhost:8080/",
          "height": 71
        },
        "id": "mk7O1DYWFNRS",
        "outputId": "3b272838-e762-4bc7-a7cb-3e486689190e"
      },
      "execution_count": 17,
      "outputs": [
        {
          "output_type": "stream",
          "name": "stderr",
          "text": [
            "Overall Progress: 100%|███████████████████████████████████████████████| 3/3 [00:12<00:00,  4.09s/it]\n"
          ]
        },
        {
          "output_type": "execute_result",
          "data": {
            "text/plain": [
              "'프로젝트보고서는 Markdown을 사용하여 문서를 작성하고 프롬프트를 활용하여 정확한 정보나 코드를 요청하는 방법을 학습하는 것을 목표로 한다.'"
            ],
            "application/vnd.google.colaboratory.intrinsic+json": {
              "type": "string"
            }
          },
          "metadata": {},
          "execution_count": 17
        }
      ]
    },
    {
      "cell_type": "code",
      "source": [],
      "metadata": {
        "id": "w6z0iY1lF2Wy"
      },
      "execution_count": null,
      "outputs": []
    }
  ]
}