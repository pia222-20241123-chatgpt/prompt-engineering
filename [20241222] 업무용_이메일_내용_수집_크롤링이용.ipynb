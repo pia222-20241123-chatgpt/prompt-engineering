{
  "nbformat": 4,
  "nbformat_minor": 0,
  "metadata": {
    "colab": {
      "provenance": []
    },
    "kernelspec": {
      "name": "python3",
      "display_name": "Python 3"
    },
    "language_info": {
      "name": "python"
    }
  },
  "cells": [
    {
      "cell_type": "code",
      "execution_count": null,
      "metadata": {
        "id": "5AedPpfFYFii"
      },
      "outputs": [],
      "source": []
    },
    {
      "cell_type": "markdown",
      "source": [
        "- 제약사항\n",
        "  - 자동로그인을하려면 시스템에 따라서 비용발생하기 때문에\n",
        "  - naver를 기준으로 작성했으며\n",
        "  - 자동로그인 을 구현해도 api 방식이 아니면 보안정책 또는 로봇인지 묻는 페이지가 나와서 불가능\n",
        "  - 그래서 일단 자동브라우져를 프로그램으로 실행하고\n",
        "  - 직접로그인한 후\n",
        "  - 자동 수집을 하도록 하고\n",
        "  - 결과는 csv파일로 보낸사람, 제목, 내용을 저장한다"
      ],
      "metadata": {
        "id": "pvNm_yU3YJwy"
      }
    },
    {
      "cell_type": "markdown",
      "source": [
        "필요한 패키지 인스톨"
      ],
      "metadata": {
        "id": "d3ooCUHVYmhO"
      }
    },
    {
      "cell_type": "markdown",
      "source": [
        "- chromedriver.exe 본인의 클롬브라우져의 버전에 맞게 설치\n",
        "\n",
        "- visual studio code 설치\n",
        "- 윈도우 탐색기에서 powershell을 관리자 권한으로 실행 아래 코드를 복붙에서 실행\n",
        "  - Set-ExecutionPolicy -ExecutionPolicy RemoteSigned -Scope CurrentUser\n",
        "\n",
        "- visual studio code 실행\n",
        "- ctrl+shift+p 를 눌러서 python:select interpreter를 선택\n",
        "- 가상환경선택\n",
        "- venv 선택\n",
        "- visual studio code에서 터미널 실행\n",
        "- .venv/Script/activate   실행\n",
        "\n",
        "- pip install python\n",
        "- pip install pandas\n",
        "- pip install beautifulsoup4\n",
        "- pip install selenium\n",
        "\n",
        "- 파일 새로 만들기 ***.py 파일 만들고 아래 코드 실행(vs에서 실행)"
      ],
      "metadata": {
        "id": "guIoRCQEYlwt"
      }
    },
    {
      "cell_type": "code",
      "source": [
        "from selenium import webdriver\n",
        "from selenium.webdriver.chrome.service import Service\n",
        "from selenium.webdriver.chrome.options import Options\n",
        "from selenium.webdriver.common.by import By\n",
        "import time\n",
        "import pickle\n",
        "import pandas as pd\n",
        "from bs4 import BeautifulSoup\n",
        "\n",
        "# 1. ChromeDriver 경로 설정\n",
        "driver_path = \"D:/gmail/chromedriver-win64/chromedriver-win64/chromedriver.exe\"  # 정확한 chromedriver 경로\n",
        "service = Service(driver_path)\n",
        "\n",
        "# 2. Chrome 옵션 설정\n",
        "options = Options()\n",
        "# options.add_argument(\"--headless\")  # 헤드리스 모드 (브라우저를 띄우지 않고 실행)\n",
        "\n",
        "# 3. ChromeDriver 초기화\n",
        "driver = webdriver.Chrome(service=service, options=options)\n",
        "\n",
        "# 4. 네이버 페이지 열기 (쿠키 적용하려면 먼저 해당 도메인에 접근해야 함)\n",
        "driver.get(\"https://mail.naver.com/\")\n",
        "time.sleep(15)  # 페이지가 완전히 로드될 때까지 잠시 대기\n",
        "\n",
        "# 5. 쿠키 로드하여 추가\n",
        "try:\n",
        "    cookies = pickle.load(open(\"cookies.pkl\", \"rb\"))  # 쿠키 파일이 있다면 로드\n",
        "    for cookie in cookies:\n",
        "        driver.add_cookie(cookie)\n",
        "    print(\"쿠키 로드 완료!\")\n",
        "\n",
        "except FileNotFoundError:\n",
        "    print(\"쿠키 파일이 없습니다. 로그인 후 쿠키를 저장해 주세요.\")\n",
        "\n",
        "# 6. 쿠키 적용 후 페이지 새로 고침 (로그인 상태로 유지)\n",
        "driver.refresh()\n",
        "\n",
        "# 7. 웹 페이지에서 크롤링 시작 (예: 이메일 제목 추출)\n",
        "time.sleep(5)  # 페이지가 완전히 로드될 때까지 대기\n",
        "\n",
        "# 페이지 HTML을 BeautifulSoup으로 파싱\n",
        "html = driver.page_source\n",
        "soup = BeautifulSoup(html, 'html.parser')\n",
        "\n",
        "# 이메일 리스트 추출\n",
        "mail_list = soup.select('li.mail_item')\n",
        "\n",
        "# 각 메일 항목별로 정보 추출\n",
        "mail_data = []\n",
        "\n",
        "for item in mail_list:\n",
        "    try:\n",
        "        # 보낸 사람\n",
        "        sender = item.select_one('.button_sender').text.strip() if item.select_one('.button_sender') else '발신자 없음'\n",
        "\n",
        "        # 발신자가 '네이버'인 경우 제외\n",
        "        if sender == '보낸 사람네이버':\n",
        "            continue\n",
        "\n",
        "        # 제목\n",
        "        title = item.select_one('.mail_title .text').text.strip() if item.select_one('.mail_title .text') else '제목 없음'\n",
        "\n",
        "        # 본문 링크 클릭하여 본문 내용 추출\n",
        "        mail_link = item.select_one('.mail_title_link')['href'] if item.select_one('.mail_title_link') else None\n",
        "        if mail_link:\n",
        "            # 본문 링크를 클릭하여 메일 내용 가져오기\n",
        "            driver.get(\"https://mail.naver.com\" + mail_link)  # 메일 상세 페이지로 이동\n",
        "            time.sleep(3)  # 페이지 로딩 대기\n",
        "            mail_page_html = driver.page_source\n",
        "            mail_page_soup = BeautifulSoup(mail_page_html, 'html.parser')\n",
        "\n",
        "            # 메일 본문 내용 추출 (본문 영역 선택)\n",
        "            body_content = mail_page_soup.select_one('#mail_read_scroll_view > div > div.mail_view_body > div > div')  # 메일 본문 영역\n",
        "            body_text = body_content.text.strip() if body_content else '본문 없음'\n",
        "        else:\n",
        "            body_text = '본문 없음'\n",
        "\n",
        "        # 메일 데이터를 CSV 리스트에 추가\n",
        "        mail_data.append([sender, title, body_text])\n",
        "\n",
        "        # 결과 출력 (선택 사항)\n",
        "        print(f\"보낸 사람: {sender}\")\n",
        "        print(f\"제목: {title}\")\n",
        "        print(f\"내용: {body_text}\")\n",
        "        print(\"-\" * 50)  # 구분선\n",
        "\n",
        "    except Exception as e:\n",
        "        print(f\"오류 발생: {e}\")\n",
        "\n",
        "# 8. pandas를 이용해 CSV로 저장\n",
        "df = pd.DataFrame(mail_data, columns=[\"보낸 사람\", \"제목\", \"내용\"])\n",
        "df.to_csv('email_data.csv', index=False, encoding='utf-8-sig')  # 'utf-8-sig'로 저장하여 한글 깨짐 방지\n",
        "\n",
        "print(\"CSV 파일 저장 완료!\")\n",
        "\n",
        "# 9. 브라우저 종료\n",
        "driver.quit()\n"
      ],
      "metadata": {
        "id": "IKT9FcJhZqxl"
      },
      "execution_count": null,
      "outputs": []
    },
    {
      "cell_type": "code",
      "source": [],
      "metadata": {
        "id": "nyz3bqoTZuM5"
      },
      "execution_count": null,
      "outputs": []
    }
  ]
}