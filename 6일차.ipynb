{
  "nbformat": 4,
  "nbformat_minor": 0,
  "metadata": {
    "colab": {
      "provenance": []
    },
    "kernelspec": {
      "name": "python3",
      "display_name": "Python 3"
    },
    "language_info": {
      "name": "python"
    }
  },
  "cells": [
    {
      "cell_type": "code",
      "execution_count": null,
      "metadata": {
        "id": "-7ITz1zUwVwD"
      },
      "outputs": [],
      "source": []
    },
    {
      "cell_type": "markdown",
      "source": [
        "Custom instruction\n",
        "  - 사용자가 시스템이나 모델이 제공해야 하는 특정 동작을 명확하게 정의하는 지침, 모델이 사용자의 필요에 맞는 응답을 생성하도록 방향을 제시\n",
        "  - 실무에서의 활용\n",
        "    - 고객 서비스 : 고객 요청에대한 자동화된 답변 생성\n",
        "    - 데이터 처리 : 데이터 변환이나 특정 포멧으로 출력\n",
        "    - 보고서 자동화 : 특정 형식의 템플릿에 맞는 텍스트 생성"
      ],
      "metadata": {
        "id": "TtTLgjBfwf2_"
      }
    },
    {
      "cell_type": "markdown",
      "source": [
        "코드의 예\n",
        "  - 사용자 요청에 따라서 데이터를 json, csv 형식으로 변환하거나 요약(summary)을 생성"
      ],
      "metadata": {
        "id": "zfXiftp_xDgg"
      }
    },
    {
      "cell_type": "code",
      "source": [
        "# 실무에서 활용 가능한 예제 코드\n",
        "\n",
        "# 1. 고객 서비스: 고객 요청에 대한 자동화된 답변 생성\n",
        "class CustomerServiceBot:\n",
        "    def __init__(self):\n",
        "        self.faq = {\n",
        "            \"환불\": \"환불은 영업일 기준 5-7일 이내에 처리됩니다.\",\n",
        "            \"배송\": \"표준 배송은 3-5 영업일이 소요됩니다.\",\n",
        "            \"지원\": \"지원팀에 연락하려면 support@example.com으로 이메일을 보내주세요.\"\n",
        "\n",
        "        }\n",
        "\n",
        "    def respond(self, query):\n",
        "        for keyword, response in self.faq.items():\n",
        "            if keyword in query.lower():\n",
        "                return response\n",
        "        return \"죄송합니다. 요청을 이해하지 못했습니다. 더 자세한 내용을 제공해 주시겠습니까?\"\n",
        "\n",
        "# Example Usage\n",
        "service_bot = CustomerServiceBot()\n",
        "print(service_bot.respond(\"배송은 얼마나 걸리나요?\"))\n",
        "\n",
        "\n",
        "# # 2. 데이터 처리: 데이터 변환이나 특정 포맷으로 출력\n",
        "# import pandas as pd\n",
        "\n",
        "# def process_data(data, format):\n",
        "#     \"\"\"\n",
        "#     데이터 포맷 변환 함수\n",
        "#     :param data: 원본 데이터 (list of dicts)\n",
        "#     :param format: 출력 포맷 (\"csv\" or \"json\")\n",
        "#     :return: 변환된 데이터 (str)\n",
        "#     \"\"\"\n",
        "#     df = pd.DataFrame(data)\n",
        "\n",
        "#     if format == \"csv\":\n",
        "#         return df.to_csv(index=False)\n",
        "#     elif format == \"json\":\n",
        "#         return df.to_json(orient=\"records\", indent=4)\n",
        "#     else:\n",
        "#         raise ValueError(\"Unsupported format\")\n",
        "\n",
        "# # Example Usage\n",
        "# data = [\n",
        "#     {\"name\": \"Alice\", \"age\": 25, \"city\": \"New York\"},\n",
        "#     {\"name\": \"Bob\", \"age\": 30, \"city\": \"Los Angeles\"}\n",
        "# ]\n",
        "# print(process_data(data, \"csv\"))\n",
        "# print(process_data(data, \"json\"))\n",
        "\n",
        "\n",
        "# # 3. 보고서 자동화: 특정 형식의 템플릿에 맞는 텍스트 생성\n",
        "# def generate_report(data, template):\n",
        "#     \"\"\"\n",
        "#     데이터 기반 보고서 생성\n",
        "#     :param data: dict 형식의 데이터\n",
        "#     :param template: 보고서 템플릿 (str)\n",
        "#     :return: 보고서 텍스트 (str)\n",
        "#     \"\"\"\n",
        "#     return template.format(**data)\n",
        "\n",
        "# # Example Usage\n",
        "# data = {\n",
        "#     \"employee_name\": \"John Doe\",\n",
        "#     \"month\": \"November\",\n",
        "#     \"sales\": 15000,\n",
        "#     \"target\": 20000\n",
        "# }\n",
        "\n",
        "# template = (\n",
        "#     \"Monthly Sales Report\\n\"\n",
        "#     \"====================\\n\"\n",
        "#     \"Employee: {employee_name}\\n\"\n",
        "#     \"Month: {month}\\n\"\n",
        "#     \"Total Sales: ${sales}\\n\"\n",
        "#     \"Target: ${target}\\n\"\n",
        "#     \"Performance: {performance}\\n\"\n",
        "# )\n",
        "\n",
        "# data[\"performance\"] = \"Excellent\" if data[\"sales\"] >= data[\"target\"] else \"Needs Improvement\"\n",
        "# print(generate_report(data, template))\n"
      ],
      "metadata": {
        "colab": {
          "base_uri": "https://localhost:8080/"
        },
        "id": "uVpQUfhQwudo",
        "outputId": "47fe0ca5-ca0b-4a8c-9c2a-ff86d68b765d"
      },
      "execution_count": 5,
      "outputs": [
        {
          "output_type": "stream",
          "name": "stdout",
          "text": [
            "표준 배송은 3-5 영업일이 소요됩니다.\n"
          ]
        }
      ]
    },
    {
      "cell_type": "code",
      "source": [
        "# 1. 고객 서비스: 고객 요청에 대한 자동화된 답변 생성\n",
        "class CustomerServiceBot:\n",
        "    def __init__(self):\n",
        "        self.faq = {\n",
        "            \"환불\": \"환불은 영업일 기준 5-7일 이내에 처리됩니다.\",\n",
        "            \"배송\": \"표준 배송은 3-5 영업일이 소요됩니다.\",\n",
        "            \"지원\": \"지원팀에 연락하려면 support@example.com으로 이메일을 보내주세요.\",\n",
        "            \"포인트\": \"포인트 적립기준은 전 월 실적에따라 다릅니다.\",\n",
        "            '포인트 조회' : \"포인트 조회는 메뉴상단에 있습니다.\"\n",
        "\n",
        "        }\n",
        "\n",
        "    def respond(self, query):\n",
        "        for keyword, response in self.faq.items():\n",
        "            if keyword in query.lower():\n",
        "                return response\n",
        "        return \"죄송합니다. 요청을 이해하지 못했습니다. 더 자세한 내용을 제공해 주시겠습니까?\"\n",
        "\n",
        "# Example Usage\n",
        "service_bot = CustomerServiceBot()\n",
        "question = input(\"요청사항을 입력하세요 : \")\n",
        "print(service_bot.respond(question))"
      ],
      "metadata": {
        "colab": {
          "base_uri": "https://localhost:8080/"
        },
        "collapsed": true,
        "id": "pjaGgYjSx2qA",
        "outputId": "e3a2f1d8-095c-400b-f844-cd0087aefa6c"
      },
      "execution_count": 13,
      "outputs": [
        {
          "output_type": "stream",
          "name": "stdout",
          "text": [
            "요청사항을 입력하세요포인트 조회\n",
            "포인트 적립기준은 전 월 실적에따라 다릅니다.\n"
          ]
        }
      ]
    },
    {
      "cell_type": "code",
      "source": [],
      "metadata": {
        "id": "kvubDT060P-I"
      },
      "execution_count": null,
      "outputs": []
    }
  ]
}