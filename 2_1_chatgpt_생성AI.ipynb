{
  "nbformat": 4,
  "nbformat_minor": 0,
  "metadata": {
    "colab": {
      "provenance": []
    },
    "kernelspec": {
      "name": "python3",
      "display_name": "Python 3"
    },
    "language_info": {
      "name": "python"
    }
  },
  "cells": [
    {
      "cell_type": "code",
      "execution_count": null,
      "metadata": {
        "id": "4ktRTDR7naEF"
      },
      "outputs": [],
      "source": []
    },
    {
      "cell_type": "markdown",
      "source": [
        "- 사례 1. 이메일 요약 및 자동 답변 생성\n",
        "  - 대량의 이메일 처리 시간을 단축하기 위해 AI기반 자연어 처리(NLP)를 활용\n",
        "  - AI 모델은 이메일의 내용을 요약하고, 응답이 필요한 주요 질문이나 요청 사흥을 식별\n",
        "  - 미리 정의된 템플릿 또는 사용자의 과거 응답 패턴에 따라 자동화된 답변 생성\n",
        "  - 활용 기술: OpenAI GPT, Google BERT 등\n",
        "- 사례 2: 문서 생성 자동화\n",
        "  - 계약서, 보고서, 회의록 등 문서를 자동 생성\n",
        "  - 주어진 템플릿과 입력 데이터(고객 정보, 계약조건)를 기반으로 문서 작성\n",
        "- 사례 3. 문서 분류  및 데이터 추출\n",
        "  - 비정형 데이터를 분석하여 주요 정보를 추출 및 분류\n",
        "  - PDF, 이미지 표, 금액, 날짜 추출\n",
        "  - 활용기술 OCR(광학 문자 인식), NLP, 컴퓨터 비전    "
      ],
      "metadata": {
        "id": "l-EhB5rTnmR5"
      }
    },
    {
      "cell_type": "code",
      "source": [],
      "metadata": {
        "id": "7jcQvLG1ohfL"
      },
      "execution_count": null,
      "outputs": []
    }
  ]
}