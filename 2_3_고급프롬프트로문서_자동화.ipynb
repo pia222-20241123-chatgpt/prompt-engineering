{
  "nbformat": 4,
  "nbformat_minor": 0,
  "metadata": {
    "colab": {
      "provenance": []
    },
    "kernelspec": {
      "name": "python3",
      "display_name": "Python 3"
    },
    "language_info": {
      "name": "python"
    }
  },
  "cells": [
    {
      "cell_type": "markdown",
      "source": [
        "# Transformer 구조 이해"
      ],
      "metadata": {
        "id": "rI_ASDcor2KS"
      }
    },
    {
      "cell_type": "markdown",
      "source": [
        "- transformer 구조  : 자연어 처리에서 주로 사용되는 딥러닝 모델\n",
        "  - Selft-Attention\n",
        "    - 입력 데이터의 각 요소가 서로 어떤 관계를 가지는지 파악\n",
        "    - 이를 통해 단어간의 문맥정보를 효육적으로 이해하고 긴 문장에서 중요한 요소를 찾아낼수 있다\n",
        "  - Multi-Head Attention\n",
        "    - 여러개의 어텐션 병렬로 사용해서 다양한 문맥적 정보를 학습\n",
        "  - Feed-Forward Network(FFN)\n",
        "    - 각 위치에서 데이터를 처리하고 비선형 변환을 통해 모델의 표현력을 높임\n",
        "  - Positional Encoding\n",
        "    - Transformer 는 순서 정보를 가지고 있지 않기때문에 입력 데이터에 위치정보를 추가\n",
        "  - Encoder-Decode 구조\n",
        "    - Encoder : 입력문장의 의미를 추출  -> 수치화\n",
        "    - Decoder : 추출된 의미를 바탕으로 요약문이나 번역 결과를생성\n",
        "    \n"
      ],
      "metadata": {
        "id": "uV4h_T91p25i"
      }
    },
    {
      "cell_type": "markdown",
      "source": [
        "# 문서내용 요약 및 데이터 정리를 위한 chatGPT 사용법"
      ],
      "metadata": {
        "id": "QVEHG4tyroKJ"
      }
    },
    {
      "cell_type": "markdown",
      "source": [
        "\n",
        "\n",
        "1.   명확한 목표 설정\n",
        "  - 원하는 결과를 구체적으로 정의\n",
        "  - 예를들어, 문서 요약인지, 데이터 표 정리인지, 분석 결과 도출인지 명시\n",
        "2.   프롬프트 설계\n",
        "  - 입력된 프롬프트에 따라서 결과물이 달라지므로 고급 프롬프트 설계가 중요\n",
        "\n",
        "3. 예시\n",
        " - 문서요약\n",
        "\n",
        "\"다음 텍스트를 간결하게 요약하고 주요 키워드를 나열하세요:[문서 내용 ]\n",
        "\n",
        "  - 데이터 정리\n",
        "\n",
        "\"다음 텍스트에서 핵심 정보를 표로 정리해주세요. 열 이름은[A,B,C]로 구성하세요:[문서]\"\n",
        "\n",
        "  - 분석\n",
        "\n",
        "\" 다음데이터를 기반으로 [트랜드 분석/의견 도출]을 작성해 주세요:[데이터 내용]\"  "
      ],
      "metadata": {
        "id": "ffKubEuqr6Zz"
      }
    },
    {
      "cell_type": "code",
      "source": [],
      "metadata": {
        "id": "Y_nUMaQFrPMs"
      },
      "execution_count": null,
      "outputs": []
    }
  ]
}