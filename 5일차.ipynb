{
  "nbformat": 4,
  "nbformat_minor": 0,
  "metadata": {
    "colab": {
      "provenance": []
    },
    "kernelspec": {
      "name": "python3",
      "display_name": "Python 3"
    },
    "language_info": {
      "name": "python"
    }
  },
  "cells": [
    {
      "cell_type": "markdown",
      "source": [
        "1. 정보요약(텍스트 요약)\n",
        "  - Hugging Face에서 BART, T5 와 같 모델은 텍스트를 요약하는데 사용\n",
        "    - transformers 라이브러리"
      ],
      "metadata": {
        "id": "IyoA8ITHvY_G"
      }
    },
    {
      "cell_type": "code",
      "source": [
        "import nltk\n",
        "nltk.download('punkt_tab')"
      ],
      "metadata": {
        "colab": {
          "base_uri": "https://localhost:8080/"
        },
        "id": "sq8v0fZ806dG",
        "outputId": "8819efed-38c8-42e4-fe33-ce4d3a9e77f9"
      },
      "execution_count": 14,
      "outputs": [
        {
          "output_type": "stream",
          "name": "stderr",
          "text": [
            "[nltk_data] Downloading package punkt_tab to /root/nltk_data...\n",
            "[nltk_data]   Unzipping tokenizers/punkt_tab.zip.\n"
          ]
        },
        {
          "output_type": "execute_result",
          "data": {
            "text/plain": [
              "True"
            ]
          },
          "metadata": {},
          "execution_count": 14
        }
      ]
    },
    {
      "cell_type": "code",
      "source": [
        "import nltk\n",
        "nltk.download('punkt')\n",
        "from transformers import AutoTokenizer, AutoModelForSeq2SeqLM\n",
        "\n",
        "model = AutoModelForSeq2SeqLM.from_pretrained('eenzeenee/t5-base-korean-summarization')\n",
        "tokenizer = AutoTokenizer.from_pretrained('eenzeenee/t5-base-korean-summarization')\n",
        "\n",
        "prefix = \"summarize: \"\n",
        "sample = \"\"\"\n",
        "    안녕하세요? 우리 (2학년)/(이 학년) 친구들 우리 친구들 학교에 가서 진짜 (2학년)/(이 학년) 이 되고 싶었는데 학교에 못 가고 있어서 답답하죠?\n",
        "    그래도 우리 친구들의 안전과 건강이 최우선이니까요 오늘부터 선생님이랑 매일 매일 국어 여행을 떠나보도록 해요.\n",
        "    어/ 시간이 벌써 이렇게 됐나요? 늦었어요. 늦었어요. 빨리 국어 여행을 떠나야 돼요.\n",
        "    그런데 어/ 국어여행을 떠나기 전에 우리가 준비물을 챙겨야 되겠죠? 국어 여행을 떠날 준비물, 교안을 어떻게 받을 수 있는지 선생님이 설명을 해줄게요.\n",
        "    (EBS)/(이비에스) 초등을 검색해서 들어가면요 첫화면이 이렇게 나와요.\n",
        "    자/ 그러면요 여기 (X)/(엑스) 눌러주(고요)/(구요). 저기 (동그라미)/(똥그라미) (EBS)/(이비에스) (2주)/(이 주) 라이브특강이라고 되어있죠?\n",
        "    거기를 바로 가기를 누릅니다. 자/ (누르면요)/(눌르면요). 어떻게 되냐? b/ 밑으로 내려요 내려요 내려요 쭉 내려요.\n",
        "    우리 몇 학년이죠? 아/ (2학년)/(이 학년) 이죠 (2학년)/(이 학년)의 무슨 과목? 국어.\n",
        "    이번주는 (1주)/(일 주) 차니까요 여기 교안. 다음주는 여기서 다운을 받으면 돼요.\n",
        "    이 교안을 클릭을 하면, 짜잔/. 이렇게 교재가 나옵니다 .이 교안을 (다운)/(따운)받아서 우리 국어여행을 떠날 수가 있어요.\n",
        "    그럼 우리 진짜로 국어 여행을 한번 떠나보도록 해요? 국어여행 출발. 자/ (1단원)/(일 단원) 제목이 뭔가요? 한번 찾아봐요.\n",
        "    시를 즐겨요 에요. 그냥 시를 읽어요 가 아니에요. 시를 즐겨야 돼요 즐겨야 돼. 어떻게 즐길까? 일단은 내내 시를 즐기는 방법에 대해서 공부를 할 건데요.\n",
        "    그럼 오늘은요 어떻게 즐길까요? 오늘 공부할 내용은요 시를 여러 가지 방법으로 읽기를 공부할겁니다.\n",
        "    어떻게 여러가지 방법으로 읽을까 우리 공부해 보도록 해요. 오늘의 시 나와라 짜잔/! 시가 나왔습니다 시의 제목이 뭔가요? 다툰 날이에요 다툰 날.\n",
        "    누구랑 다퉜나 동생이랑 다퉜나 언니랑 친구랑? 누구랑 다퉜는지 선생님이 시를 읽어 줄 테니까 한번 생각을 해보도록 해요.\"\"\"\n",
        "\n",
        "inputs = [prefix + sample]\n",
        "\n",
        "\n",
        "inputs = tokenizer(inputs, max_length=512, truncation=True, return_tensors=\"pt\")\n",
        "output = model.generate(**inputs, num_beams=3, do_sample=True, min_length=10, max_length=64)\n",
        "decoded_output = tokenizer.batch_decode(output, skip_special_tokens=True)[0]\n",
        "result = nltk.sent_tokenize(decoded_output.strip())[0]\n",
        "\n",
        "print('RESULT >>', result)"
      ],
      "metadata": {
        "colab": {
          "base_uri": "https://localhost:8080/"
        },
        "id": "jvaSmclBx5Y2",
        "outputId": "0adf38b5-3bcf-4796-b277-fd182846d401"
      },
      "execution_count": 15,
      "outputs": [
        {
          "output_type": "stream",
          "name": "stderr",
          "text": [
            "[nltk_data] Downloading package punkt to /root/nltk_data...\n",
            "[nltk_data]   Package punkt is already up-to-date!\n"
          ]
        },
        {
          "output_type": "stream",
          "name": "stdout",
          "text": [
            "RESULT >> 국어 여행을 떠나기 전에 국어 여행을 떠날 준비물과 교안을 어떻게 받을 수 있는지 선생님이 설명해 준다.\n"
          ]
        }
      ]
    },
    {
      "cell_type": "markdown",
      "source": [
        "OCR - 이미지에서 텍스트 추출"
      ],
      "metadata": {
        "id": "H7LB8tmi3RuN"
      }
    },
    {
      "cell_type": "code",
      "source": [
        "!apt-get install tesseract-ocr"
      ],
      "metadata": {
        "colab": {
          "base_uri": "https://localhost:8080/"
        },
        "id": "MTUiYBP51OAU",
        "outputId": "ce3b9881-8c6d-40a9-caad-2983a71563c3"
      },
      "execution_count": 18,
      "outputs": [
        {
          "output_type": "stream",
          "name": "stdout",
          "text": [
            "Reading package lists... Done\n",
            "Building dependency tree... Done\n",
            "Reading state information... Done\n",
            "The following additional packages will be installed:\n",
            "  tesseract-ocr-eng tesseract-ocr-osd\n",
            "The following NEW packages will be installed:\n",
            "  tesseract-ocr tesseract-ocr-eng tesseract-ocr-osd\n",
            "0 upgraded, 3 newly installed, 0 to remove and 49 not upgraded.\n",
            "Need to get 4,816 kB of archives.\n",
            "After this operation, 15.6 MB of additional disk space will be used.\n",
            "Get:1 http://archive.ubuntu.com/ubuntu jammy/universe amd64 tesseract-ocr-eng all 1:4.00~git30-7274cfa-1.1 [1,591 kB]\n",
            "Get:2 http://archive.ubuntu.com/ubuntu jammy/universe amd64 tesseract-ocr-osd all 1:4.00~git30-7274cfa-1.1 [2,990 kB]\n",
            "Get:3 http://archive.ubuntu.com/ubuntu jammy/universe amd64 tesseract-ocr amd64 4.1.1-2.1build1 [236 kB]\n",
            "Fetched 4,816 kB in 1s (3,890 kB/s)\n",
            "Selecting previously unselected package tesseract-ocr-eng.\n",
            "(Reading database ... 123632 files and directories currently installed.)\n",
            "Preparing to unpack .../tesseract-ocr-eng_1%3a4.00~git30-7274cfa-1.1_all.deb ...\n",
            "Unpacking tesseract-ocr-eng (1:4.00~git30-7274cfa-1.1) ...\n",
            "Selecting previously unselected package tesseract-ocr-osd.\n",
            "Preparing to unpack .../tesseract-ocr-osd_1%3a4.00~git30-7274cfa-1.1_all.deb ...\n",
            "Unpacking tesseract-ocr-osd (1:4.00~git30-7274cfa-1.1) ...\n",
            "Selecting previously unselected package tesseract-ocr.\n",
            "Preparing to unpack .../tesseract-ocr_4.1.1-2.1build1_amd64.deb ...\n",
            "Unpacking tesseract-ocr (4.1.1-2.1build1) ...\n",
            "Setting up tesseract-ocr-eng (1:4.00~git30-7274cfa-1.1) ...\n",
            "Setting up tesseract-ocr-osd (1:4.00~git30-7274cfa-1.1) ...\n",
            "Setting up tesseract-ocr (4.1.1-2.1build1) ...\n",
            "Processing triggers for man-db (2.10.2-1) ...\n"
          ]
        }
      ]
    },
    {
      "cell_type": "code",
      "source": [
        "# 필요한 라이브러리 설치\n",
        "!apt-get install tesseract-ocr\n",
        "!apt-get install tesseract-ocr-kor  # 한국어 언어 데이터 설치\n",
        "\n",
        "# pytesseract와 PIL 라이브러리 임포트\n",
        "from PIL import Image\n",
        "import pytesseract\n",
        "\n",
        "# 이미지 열기\n",
        "image = Image.open('/content/캡처.PNG')\n",
        "\n",
        "# 한국어 텍스트 추출\n",
        "text = pytesseract.image_to_string(image, lang='kor')\n",
        "print(text)\n"
      ],
      "metadata": {
        "colab": {
          "base_uri": "https://localhost:8080/"
        },
        "id": "YbHLV_z33U81",
        "outputId": "011c2f0d-b848-475c-c308-7432a5ee44f3"
      },
      "execution_count": 21,
      "outputs": [
        {
          "output_type": "stream",
          "name": "stdout",
          "text": [
            "Reading package lists... Done\n",
            "Building dependency tree... Done\n",
            "Reading state information... Done\n",
            "tesseract-ocr is already the newest version (4.1.1-2.1build1).\n",
            "0 upgraded, 0 newly installed, 0 to remove and 49 not upgraded.\n",
            "Reading package lists... Done\n",
            "Building dependency tree... Done\n",
            "Reading state information... Done\n",
            "tesseract-ocr-kor is already the newest version (1:4.00~git30-7274cfa-1.1).\n",
            "0 upgraded, 0 newly installed, 0 to remove and 49 not upgraded.\n",
            "이들은 \"계멈이 야기한 문제를 고작 '국민들께 불만과 불편을 끼친 것'으로 묘사한다. 국정 최\n",
            "고 책임자로서의 엄중한 책임감이라고는 전혀 찾아볼 수 없다. 어떻게 해서든 탄핵을 막아보\n",
            "겠다는 것이다. 언제든 내란을 획책할 수 있는 기득권 정치세력의 정국 주도권을 끝까지 유\n",
            "지하겠다는 것\"이라고 일침했다.\n",
            "\n",
            "이들은 \"어불성설이다. 국민들은 더 이상 고양이에게 생선 가게를 맡길 생각이 없다. 국민의\n",
            "힘은 탄핵하라는 국민의 명령을 이행하고 내란을 획책한       빅\n",
            "\n",
            "어야 한다“며 \"국민과 역사 앞에 진정으로 사죄하고 진정 책임지\n",
            "\n",
            "러 또\n",
            "\n",
            "578민주화운동 공법 3단제(유족회'부상자회-공로자회)와 578기념재단도 성명을 내고 윤\n",
            "동령을 향해 \"내란을 일으킨 신군부 세력의 폭압적 행위를 응호하고 그들을 정당화하려는\n",
            "\n",
            "태도를 보였다\"며 \"578로 희생된 수많은 국민의 피와 눈물을 모욕하는 행위\"라고 비판했다.\n",
            "\n",
            "이들 단체는 \"국회는 오늘 대한민국 민주주의 근간을 흔드는 반란군에게 다시 권력을 허락\n",
            "것인지 심판할 것인지 선택해야 한다\"며 \"국민의힘이 국민의 목소리를 외면하고 내란수\n",
            "\n",
            "될지 국민 앞에 무릎 꿀고 사죄하는 올바른 선택을 할지 국민들이 지켜볼\n",
            "\n",
            "윤석열 정권퇴진 광주비상행동은 탄핵 소추안 의결이 예정된 오후 5시 광주 동구 578민주\n",
            "광장에서 4차 시민종기대회를 연다. 지역시민 800여명은 상경해 국회 앞 탄핵 촉구 집회\n",
            "에 힘을 보탠다.\n",
            "\f\n"
          ]
        }
      ]
    },
    {
      "cell_type": "code",
      "source": [],
      "metadata": {
        "id": "5mkTtbDJ3eB9"
      },
      "execution_count": null,
      "outputs": []
    }
  ]
}