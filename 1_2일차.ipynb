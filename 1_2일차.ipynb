{
  "nbformat": 4,
  "nbformat_minor": 0,
  "metadata": {
    "colab": {
      "provenance": []
    },
    "kernelspec": {
      "name": "python3",
      "display_name": "Python 3"
    },
    "language_info": {
      "name": "python"
    }
  },
  "cells": [
    {
      "cell_type": "code",
      "execution_count": 1,
      "metadata": {
        "id": "6q13pCntBYfq",
        "colab": {
          "base_uri": "https://localhost:8080/"
        },
        "outputId": "6ad862ab-1028-4266-83b5-9a0154cfbe3f"
      },
      "outputs": [
        {
          "output_type": "stream",
          "name": "stdout",
          "text": [
            "30\n",
            "-10\n",
            "200\n",
            "0.5\n"
          ]
        }
      ],
      "source": [
        "x = 10\n",
        "y = 20\n",
        "# 더하기\n",
        "print(x+y)\n",
        "# 빼기\n",
        "result = x - y\n",
        "print(result)\n",
        "# 곱하기\n",
        "result = x * y\n",
        "print(result)\n",
        "# 나누기\n",
        "result = x / y\n",
        "print(result)\n"
      ]
    },
    {
      "cell_type": "code",
      "source": [
        "# 사칙연산을 수행하는 함수 정의\n",
        "def calculate(x, y):\n",
        "    # 더하기\n",
        "    addition = x + y\n",
        "    print(f\"더하기 결과: {addition}\")\n",
        "\n",
        "    # 빼기\n",
        "    subtraction = x - y\n",
        "    print(f\"빼기 결과: {subtraction}\")\n",
        "\n",
        "    # 곱하기\n",
        "    multiplication = x * y\n",
        "    print(f\"곱하기 결과: {multiplication}\")\n",
        "\n",
        "    # 나누기\n",
        "    division = x / y\n",
        "    print(f\"나누기 결과: {division}\")\n",
        "\n",
        "# 함수 호출\n",
        "calculate(10, 20)\n"
      ],
      "metadata": {
        "id": "UHqxxvivBxBm",
        "colab": {
          "base_uri": "https://localhost:8080/"
        },
        "outputId": "6b28313b-d6ee-4282-e817-69cd88a96693"
      },
      "execution_count": null,
      "outputs": [
        {
          "output_type": "stream",
          "name": "stdout",
          "text": [
            "더하기 결과: 30\n",
            "빼기 결과: -10\n",
            "곱하기 결과: 200\n",
            "나누기 결과: 0.5\n"
          ]
        }
      ]
    },
    {
      "cell_type": "code",
      "source": [
        "# 함수 호출\n",
        "calculate(10, 20)"
      ],
      "metadata": {
        "id": "HRWg5GgSFHc1",
        "outputId": "22fdadfb-ea60-46af-cac4-b3d866dd6cb0",
        "colab": {
          "base_uri": "https://localhost:8080/"
        }
      },
      "execution_count": null,
      "outputs": [
        {
          "output_type": "stream",
          "name": "stdout",
          "text": [
            "더하기 결과: 30\n",
            "빼기 결과: -10\n",
            "곱하기 결과: 200\n",
            "나누기 결과: 0.5\n"
          ]
        }
      ]
    },
    {
      "cell_type": "code",
      "source": [
        "!pip install python-pptx"
      ],
      "metadata": {
        "colab": {
          "base_uri": "https://localhost:8080/"
        },
        "id": "Dru47RerPff0",
        "outputId": "3e1c5748-8403-456b-e908-f982c680ce56"
      },
      "execution_count": null,
      "outputs": [
        {
          "output_type": "stream",
          "name": "stdout",
          "text": [
            "Collecting python-pptx\n",
            "  Downloading python_pptx-1.0.2-py3-none-any.whl.metadata (2.5 kB)\n",
            "Requirement already satisfied: Pillow>=3.3.2 in /usr/local/lib/python3.10/dist-packages (from python-pptx) (11.0.0)\n",
            "Collecting XlsxWriter>=0.5.7 (from python-pptx)\n",
            "  Downloading XlsxWriter-3.2.0-py3-none-any.whl.metadata (2.6 kB)\n",
            "Requirement already satisfied: lxml>=3.1.0 in /usr/local/lib/python3.10/dist-packages (from python-pptx) (5.3.0)\n",
            "Requirement already satisfied: typing-extensions>=4.9.0 in /usr/local/lib/python3.10/dist-packages (from python-pptx) (4.12.2)\n",
            "Downloading python_pptx-1.0.2-py3-none-any.whl (472 kB)\n",
            "\u001b[2K   \u001b[90m━━━━━━━━━━━━━━━━━━━━━━━━━━━━━━━━━━━━━━━━\u001b[0m \u001b[32m472.8/472.8 kB\u001b[0m \u001b[31m6.3 MB/s\u001b[0m eta \u001b[36m0:00:00\u001b[0m\n",
            "\u001b[?25hDownloading XlsxWriter-3.2.0-py3-none-any.whl (159 kB)\n",
            "\u001b[2K   \u001b[90m━━━━━━━━━━━━━━━━━━━━━━━━━━━━━━━━━━━━━━━━\u001b[0m \u001b[32m159.9/159.9 kB\u001b[0m \u001b[31m11.1 MB/s\u001b[0m eta \u001b[36m0:00:00\u001b[0m\n",
            "\u001b[?25hInstalling collected packages: XlsxWriter, python-pptx\n",
            "Successfully installed XlsxWriter-3.2.0 python-pptx-1.0.2\n"
          ]
        }
      ]
    },
    {
      "cell_type": "code",
      "source": [
        "import pptx\n",
        "from pptx.util import Inches\n",
        "\n",
        "# 새로운 PPT 파일 생성\n",
        "prs = pptx.Presentation()\n",
        "\n",
        "# 슬라이드 추가\n",
        "slide_layout = prs.slide_layouts[6]  # Blank layout\n",
        "slide = prs.slides.add_slide(slide_layout)\n",
        "\n",
        "# 텍스트 추가\n",
        "title = slide.shapes.add_textbox(Inches(1), Inches(1), Inches(10), Inches(1.5))\n",
        "tf = title.text_frame\n",
        "tf.text = \"제미니가 생성한 텍스트입니다.\"\n",
        "\n",
        "# PPT 파일 저장\n",
        "prs.save('my_ppt.pptx')"
      ],
      "metadata": {
        "id": "cCPPcU9eFItc"
      },
      "execution_count": null,
      "outputs": []
    },
    {
      "cell_type": "markdown",
      "source": [],
      "metadata": {
        "id": "N_oVNQt-U42J"
      }
    },
    {
      "cell_type": "code",
      "source": [],
      "metadata": {
        "id": "-ljdCUWvQr47"
      },
      "execution_count": null,
      "outputs": []
    },
    {
      "cell_type": "code",
      "source": [],
      "metadata": {
        "id": "OAEOmhuiQsK6"
      },
      "execution_count": null,
      "outputs": []
    },
    {
      "cell_type": "code",
      "source": [
        "from pptx import Presentation\n",
        "from pptx.util import Inches\n",
        "\n",
        "# 프레젠테이션 생성\n",
        "prs = Presentation()\n",
        "\n",
        "# 슬라이드 1: 표지\n",
        "slide_1 = prs.slides.add_slide(prs.slide_layouts[0])  # 제목 슬라이드\n",
        "title = slide_1.shapes.title\n",
        "subtitle = slide_1.placeholders[1]\n",
        "\n",
        "title.text = \"트랜스포머: 똑똑한 컴퓨터 친구\"\n",
        "subtitle.text = \"오늘은 컴퓨터가 어떻게 우리 말을 알아듣고 번역하는지 알아볼 거예요!\\n바로 트랜스포머라는 아주 똑똑한 컴퓨터 프로그램 덕분이죠!\"\n",
        "\n",
        "# 이미지 추가 (표지 이미지)\n",
        "img_path = \"001.jpg\"  # 여기에 이미지 파일 경로를 넣으세요\n",
        "slide_1.shapes.add_picture(img_path, Inches(2), Inches(2), width=Inches(6))\n",
        "\n",
        "# 슬라이드 2: 컴퓨터는 글자를 어떻게 이해할까?\n",
        "slide_2 = prs.slides.add_slide(prs.slide_layouts[1])  # 제목 및 내용 슬라이드\n",
        "title = slide_2.shapes.title\n",
        "content = slide_2.shapes.placeholders[1]\n",
        "\n",
        "title.text = \"컴퓨터도 말을 배워요!\"\n",
        "content.text = '''컴퓨터는 우리가 쓰는 글자를 바로 이해하지 못해요.\n",
        "그래서 우리가 하는 말을 숫자로 바꿔줘야 해요. 이걸 임베딩이라고 불러요.\n",
        "마치 사전에서 단어를 찾아 번호를 매기는 것과 같아요.'''\n",
        "\n",
        "# 이미지 추가 (컴퓨터가 사전을 찾아보는 그림)\n",
        "img_path = \"001.jpg\"  # 여기에 이미지 파일 경로를 넣으세요\n",
        "slide_2.shapes.add_picture(img_path, Inches(2), Inches(2), width=Inches(6))\n",
        "\n",
        "# 슬라이드 3: 단어 사이의 관계를 파악하기\n",
        "slide_3 = prs.slides.add_slide(prs.slide_layouts[1])\n",
        "title = slide_3.shapes.title\n",
        "content = slide_3.shapes.placeholders[1]\n",
        "\n",
        "title.text = \"단어들은 친구야!\"\n",
        "content.text = \"트랜스포머는 문장 속 단어들이 서로 어떤 관계가 있는지 파악해요.\\n예를 들어 '사과는 빨갛고, 바나나는 노랗다'에서 '사과'와 '빨갛다'는 친구 사이죠?\\n이 과정을 어텐션이라고 불러요.\"\n",
        "\n",
        "# 이미지 추가 (단어들이 연결된 그림)\n",
        "img_path = \"001.jpg\"  # 여기에 이미지 파일 경로를 넣으세요\n",
        "slide_3.shapes.add_picture(img_path, Inches(2), Inches(2), width=Inches(6))\n",
        "\n",
        "# 슬라이드 4: 트랜스포머가 하는 일\n",
        "slide_4 = prs.slides.add_slide(prs.slide_layouts[1])\n",
        "title = slide_4.shapes.title\n",
        "content = slide_4.shapes.placeholders[1]\n",
        "\n",
        "title.text = \"트랜스포머의 마법!\"\n",
        "content.text = \"트랜스포머는 숫자로 바뀐 단어들을 다시 글자로 바꿔서 우리가 이해할 수 있는 문장을 만들어요.\\n마치 훌륭한 번역가처럼 다른 언어로 바꿔주기도 하고, 우리의 질문에 답해주기도 해요.\"\n",
        "\n",
        "# 이미지 추가 (마법 지팡이를 흔드는 트랜스포머)\n",
        "img_path = \"001.jpg\"  # 여기에 이미지 파일 경로를 넣으세요\n",
        "slide_4.shapes.add_picture(img_path, Inches(2), Inches(2), width=Inches(6))\n",
        "\n",
        "# 슬라이드 5: 트랜스포머를 이용한 재미있는 예시\n",
        "slide_5 = prs.slides.add_slide(prs.slide_layouts[1])\n",
        "title = slide_5.shapes.title\n",
        "content = slide_5.shapes.placeholders[1]\n",
        "\n",
        "title.text = \"트랜스포머와 함께 놀자!\"\n",
        "content.text = \"챗봇: '오늘 날씨 어때?'라고 물어보면 트랜스포머가 날씨를 알려줘요.\\n번역기: 영어를 한국어로, 한국어를 영어로 바꿔줘요.\\n그림 그리기: 트랜스포머는 그림도 그릴 수 있어요!\"\n",
        "\n",
        "# 이미지 추가 (아이들이 챗봇과 대화하는 그림)\n",
        "img_path = \"001.jpg\"  # 여기에 이미지 파일 경로를 넣으세요\n",
        "slide_5.shapes.add_picture(img_path, Inches(2), Inches(2), width=Inches(6))\n",
        "\n",
        "# 슬라이드 6: 마무리\n",
        "slide_6 = prs.slides.add_slide(prs.slide_layouts[1])\n",
        "title = slide_6.shapes.title\n",
        "content = slide_6.shapes.placeholders[1]\n",
        "\n",
        "title.text = \"트랜스포머, 정말 똑똑하죠?\"\n",
        "content.text = \"트랜스포머는 우리 생활을 더욱 편리하게 만들어 주는 똑똑한 친구예요.\\n앞으로 트랜스포머는 더욱 발전해서 우리에게 더 많은 놀라움을 줄 거예요!\"\n",
        "\n",
        "# 이미지 추가 (트랜스포머 로봇이 웃고 있는 그림)\n",
        "img_path = \"001.jpg\"  # 여기에 이미지 파일 경로를 넣으세요\n",
        "slide_6.shapes.add_picture(img_path, Inches(2), Inches(2), width=Inches(6))\n",
        "\n",
        "# 프레젠테이션 저장\n",
        "prs.save('Transformer_Presentation.pptx')\n"
      ],
      "metadata": {
        "id": "ZygYme21QsNS"
      },
      "execution_count": null,
      "outputs": []
    },
    {
      "cell_type": "code",
      "source": [],
      "metadata": {
        "id": "NLljhRRoPk0x"
      },
      "execution_count": null,
      "outputs": []
    }
  ]
}